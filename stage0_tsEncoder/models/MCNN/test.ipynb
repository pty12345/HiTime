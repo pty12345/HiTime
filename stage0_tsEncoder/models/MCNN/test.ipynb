{
 "cells": [
  {
   "cell_type": "markdown",
   "metadata": {
    "collapsed": true,
    "pycharm": {
     "name": "#%% md\n"
    }
   },
   "source": [
    "# MCNN - PyTorch Implementation\n",
    "**Author**: Johannes S. Fischer"
   ]
  },
  {
   "cell_type": "code",
   "execution_count": 1,
   "metadata": {
    "collapsed": false,
    "pycharm": {
     "name": "#%%\n"
    }
   },
   "outputs": [],
   "source": [
    "import numpy as np\n",
    "import matplotlib.pyplot as plt\n",
    "import torch\n",
    "import torchmetrics\n",
    "\n",
    "from model import *\n",
    "# from transforms import Identity, MovingAvg, Downsample\n",
    "from dataloader import TS_dataset"
   ]
  },
  {
   "cell_type": "markdown",
   "metadata": {
    "collapsed": false,
    "pycharm": {
     "name": "#%% md\n"
    }
   },
   "source": [
    "## Data\n",
    "Using the `ECG5000` dataset for testing. Information can be found [here](https://timeseriesclassification.com/description.php?Dataset=ECG5000)."
   ]
  },
  {
   "cell_type": "code",
   "execution_count": 2,
   "metadata": {},
   "outputs": [],
   "source": [
    "dataset = 'ECG5000'"
   ]
  },
  {
   "cell_type": "code",
   "execution_count": 3,
   "metadata": {
    "collapsed": false,
    "pycharm": {
     "name": "#%%\n"
    }
   },
   "outputs": [
    {
     "name": "stdout",
     "output_type": "stream",
     "text": [
      "Train: (500, 141)\n",
      "Test: (4500, 141)\n"
     ]
    },
    {
     "data": {
      "image/png": "[encoded data removed]",
      "text/plain": [
       "<Figure size 1008x432 with 2 Axes>"
      ]
     },
     "metadata": {
      "needs_background": "light"
     },
     "output_type": "display_data"
    }
   ],
   "source": [
    "train_data = np.loadtxt('./data/' + dataset + '/' + dataset + '_TRAIN.txt')\n",
    "test_data = np.loadtxt('./data/' + dataset + '/' + dataset + '_TEST.txt')\n",
    "\n",
    "print(\"Train:\", train_data.shape)\n",
    "print(\"Test:\", test_data.shape)\n",
    "\n",
    "Y_train = train_data[:, 0]\n",
    "Y_test = test_data[:, 0]\n",
    "\n",
    "n_classes = len(np.unique(Y_train))\n",
    "\n",
    "plt.subplots(1,2,figsize=(14,6))\n",
    "plt.subplot(1,2,1)\n",
    "plt.hist(Y_train)\n",
    "plt.title('Training Class Distribution')\n",
    "plt.subplot(1,2,2)\n",
    "plt.hist(Y_test)\n",
    "plt.title('Test Class Distribution')\n",
    "plt.show()"
   ]
  },
  {
   "cell_type": "markdown",
   "metadata": {
    "collapsed": false,
    "pycharm": {
     "name": "#%% md\n"
    }
   },
   "source": [
    "Reshape for `PyTorch` to have $(n, c, l)$ with $n$ being the number of samples, $c$ being the number of channels, which is one for this univariate dataset, and $l$ being the length, using the `ECG5000` dataloader."
   ]
  },
  {
   "cell_type": "code",
   "execution_count": 4,
   "metadata": {
    "collapsed": false,
    "pycharm": {
     "name": "#%%\n"
    }
   },
   "outputs": [],
   "source": [
    "train_dataset = TS_dataset(train_data)\n",
    "test_dataset = TS_dataset(test_data)\n",
    "\n",
    "train_loader = torch.utils.data.DataLoader(train_dataset, batch_size=64, shuffle=True)\n",
    "test_loader = torch.utils.data.DataLoader(test_dataset, batch_size=64, shuffle=True)"
   ]
  },
  {
   "cell_type": "markdown",
   "metadata": {
    "collapsed": false,
    "pycharm": {
     "name": "#%% md\n"
    }
   },
   "source": [
    "## Model\n",
    "Creating a single model without applying grid search."
   ]
  },
  {
   "cell_type": "code",
   "execution_count": 5,
   "metadata": {
    "collapsed": false,
    "pycharm": {
     "name": "#%%\n"
    }
   },
   "outputs": [
    {
     "name": "stdout",
     "output_type": "stream",
     "text": [
      "MCNN(\n",
      "  (branches): ModuleList(\n",
      "    (0): Sequential(\n",
      "      (identity_transform): Identity()\n",
      "      (identity_conv): Conv1d(1, 64, kernel_size=(7,), stride=(1,), padding=same)\n",
      "      (identity_activation): ReLU()\n",
      "      (identity_pool): MaxPool1d(kernel_size=35, stride=35, padding=0, dilation=1, ceil_mode=False)\n",
      "    )\n",
      "    (1): Sequential(\n",
      "      (movingAvg_3_transform): MovingAvg()\n",
      "      (movingAvg_3_conv): Conv1d(1, 64, kernel_size=(7,), stride=(1,), padding=same)\n",
      "      (movingAvg_3_activation): ReLU()\n",
      "      (movingAvg_3_pool): MaxPool1d(kernel_size=34, stride=34, padding=0, dilation=1, ceil_mode=False)\n",
      "    )\n",
      "    (2): Sequential(\n",
      "      (movingAvg_4_transform): MovingAvg()\n",
      "      (movingAvg_4_conv): Conv1d(1, 64, kernel_size=(7,), stride=(1,), padding=same)\n",
      "      (movingAvg_4_activation): ReLU()\n",
      "      (movingAvg_4_pool): MaxPool1d(kernel_size=34, stride=34, padding=0, dilation=1, ceil_mode=False)\n",
      "    )\n",
      "    (3): Sequential(\n",
      "      (movingAvg_5_transform): MovingAvg()\n",
      "      (movingAvg_5_conv): Conv1d(1, 64, kernel_size=(7,), stride=(1,), padding=same)\n",
      "      (movingAvg_5_activation): ReLU()\n",
      "      (movingAvg_5_pool): MaxPool1d(kernel_size=34, stride=34, padding=0, dilation=1, ceil_mode=False)\n",
      "    )\n",
      "    (4): Sequential(\n",
      "      (downsample_2_transform): Downsample()\n",
      "      (downsample_2_conv): Conv1d(1, 64, kernel_size=(7,), stride=(1,), padding=same)\n",
      "      (downsample_2_activation): ReLU()\n",
      "      (downsample_2_pool): MaxPool1d(kernel_size=17, stride=17, padding=0, dilation=1, ceil_mode=False)\n",
      "    )\n",
      "    (5): Sequential(\n",
      "      (downsample_3_transform): Downsample()\n",
      "      (downsample_3_conv): Conv1d(1, 64, kernel_size=(7,), stride=(1,), padding=same)\n",
      "      (downsample_3_activation): ReLU()\n",
      "      (downsample_3_pool): MaxPool1d(kernel_size=11, stride=11, padding=0, dilation=1, ceil_mode=False)\n",
      "    )\n",
      "  )\n",
      "  (full_conv): Conv1d(384, 256, kernel_size=(4,), stride=(1,), padding=same)\n",
      "  (full_conv_pool): MaxPool1d(kernel_size=1, stride=1, padding=0, dilation=1, ceil_mode=False)\n",
      "  (flatten): Flatten(start_dim=1, end_dim=-1)\n",
      "  (fc): Linear(in_features=1024, out_features=256, bias=True)\n",
      "  (output): Linear(in_features=256, out_features=5, bias=False)\n",
      "  (softmax): Softmax(dim=1)\n",
      ")\n"
     ]
    }
   ],
   "source": [
    "transformations = {\n",
    "    'identity': {\n",
    "        'class': Identity,\n",
    "        'params': []\n",
    "    },\n",
    "    'movingAvg': {\n",
    "        'class': MovingAvg,\n",
    "        'params': [3, 4, 5]       # window sizes\n",
    "    },\n",
    "    'downsample': {\n",
    "        'class': Downsample,\n",
    "        'params': [2, 3]       # sampling rates\n",
    "    }\n",
    "}\n",
    "\n",
    "ts_length = train_dataset.X.shape[-1]\n",
    "ts_shape = (train_dataset.X.shape[-2], train_dataset.X.shape[-1])\n",
    "pool_factor = 4\n",
    "kernel_size = int(ts_length*0.05)\n",
    "\n",
    "model = MCNN(ts_shape, n_classes, pool_factor, kernel_size, transformations)\n",
    "\n",
    "\n",
    "model = model.cuda()\n",
    "optim = torch.optim.Adam(model.parameters())\n",
    "\n",
    "print(model)\n"
   ]
  },
  {
   "cell_type": "markdown",
   "metadata": {
    "collapsed": false,
    "pycharm": {
     "name": "#%% md\n"
    }
   },
   "source": [
    "## Training"
   ]
  },
  {
   "cell_type": "code",
   "execution_count": 8,
   "metadata": {
    "collapsed": false,
    "pycharm": {
     "name": "#%%\n"
    }
   },
   "outputs": [
    {
     "ename": "TypeError",
     "evalue": "mean(): argument 'input' (position 1) must be Tensor, not list",
     "output_type": "error",
     "traceback": [
      "\u001b[1;31m---------------------------------------------------------------------------\u001b[0m",
      "\u001b[1;31mTypeError\u001b[0m                                 Traceback (most recent call last)",
      "\u001b[1;32md:\\学习资料\\实验室\\数据集\\TS Classification\\src\\tsai\\classifiers\\MCNN\\test.ipynb Cell 11'\u001b[0m in \u001b[0;36m<cell line: 5>\u001b[1;34m()\u001b[0m\n\u001b[0;32m     <a href='vscode-notebook-cell:/d%3A/%E5%AD%A6%E4%B9%A0%E8%B5%84%E6%96%99/%E5%AE%9E%E9%AA%8C%E5%AE%A4/%E6%95%B0%E6%8D%AE%E9%9B%86/TS%20Classification/src/tsai/classifiers/MCNN/test.ipynb#ch0000010?line=20'>21</a>\u001b[0m     acc \u001b[39m=\u001b[39m torchmetrics\u001b[39m.\u001b[39mfunctional\u001b[39m.\u001b[39maccuracy(yhat, y\u001b[39m.\u001b[39mint())\n\u001b[0;32m     <a href='vscode-notebook-cell:/d%3A/%E5%AD%A6%E4%B9%A0%E8%B5%84%E6%96%99/%E5%AE%9E%E9%AA%8C%E5%AE%A4/%E6%95%B0%E6%8D%AE%E9%9B%86/TS%20Classification/src/tsai/classifiers/MCNN/test.ipynb#ch0000010?line=21'>22</a>\u001b[0m     epoch_accuracies\u001b[39m.\u001b[39mappend(acc)\n\u001b[1;32m---> <a href='vscode-notebook-cell:/d%3A/%E5%AD%A6%E4%B9%A0%E8%B5%84%E6%96%99/%E5%AE%9E%E9%AA%8C%E5%AE%A4/%E6%95%B0%E6%8D%AE%E9%9B%86/TS%20Classification/src/tsai/classifiers/MCNN/test.ipynb#ch0000010?line=23'>24</a>\u001b[0m epoch_loss \u001b[39m=\u001b[39m torch\u001b[39m.\u001b[39;49mmean(epoch_losses)\n\u001b[0;32m     <a href='vscode-notebook-cell:/d%3A/%E5%AD%A6%E4%B9%A0%E8%B5%84%E6%96%99/%E5%AE%9E%E9%AA%8C%E5%AE%A4/%E6%95%B0%E6%8D%AE%E9%9B%86/TS%20Classification/src/tsai/classifiers/MCNN/test.ipynb#ch0000010?line=24'>25</a>\u001b[0m epoch_acc \u001b[39m=\u001b[39m torch\u001b[39m.\u001b[39mmean(epoch_accuracies)\n\u001b[0;32m     <a href='vscode-notebook-cell:/d%3A/%E5%AD%A6%E4%B9%A0%E8%B5%84%E6%96%99/%E5%AE%9E%E9%AA%8C%E5%AE%A4/%E6%95%B0%E6%8D%AE%E9%9B%86/TS%20Classification/src/tsai/classifiers/MCNN/test.ipynb#ch0000010?line=26'>27</a>\u001b[0m \u001b[39m# validation\u001b[39;00m\n",
      "\u001b[1;31mTypeError\u001b[0m: mean(): argument 'input' (position 1) must be Tensor, not list"
     ]
    }
   ],
   "source": [
    "EPOCHS = 4\n",
    "\n",
    "results = {'loss': [], 'val_loss': [], 'acc': [], 'val_acc': []}\n",
    "\n",
    "for epoch in range(EPOCHS):\n",
    " \n",
    "    # training\n",
    "    model.train()\n",
    "    epoch_losses = []\n",
    "    epoch_accuracies = []\n",
    "    for x, y in train_loader:\n",
    "        x = x.cuda()\n",
    "        y = y.cuda()\n",
    "        yhat = model.forward(x)\n",
    "        loss = torch.nn.CrossEntropyLoss()(yhat, y)\n",
    "        optim.zero_grad()\n",
    "        loss.backward()\n",
    "        optim.step()\n",
    "\n",
    "        epoch_losses.append(loss.item())\n",
    "        acc = torchmetrics.functional.accuracy(yhat, y.int())\n",
    "        epoch_accuracies.append(acc)\n",
    "\n",
    "    epoch_loss = torch.mean(epoch_losses)\n",
    "    epoch_acc = torch.mean(epoch_accuracies)\n",
    "\n",
    "    # validation\n",
    "    model.eval()\n",
    "    epoch_val_losses = []\n",
    "    epoch_val_accuracies = []\n",
    "    with torch.no_grad():\n",
    "        for x, y in test_loader:\n",
    "            x = x.cuda()\n",
    "            y = y.cuda()\n",
    "            yhat = model.forward(x)\n",
    "            loss = torch.nn.CrossEntropyLoss()(yhat, y)\n",
    "            epoch_val_losses.append(loss.item())\n",
    "            acc = torchmetrics.functional.accuracy(yhat, y.int())\n",
    "            epoch_val_accuracies.append(acc)\n",
    "\n",
    "    epoch_val_loss = torch.mean(epoch_val_losses)\n",
    "    epoch_val_acc = torch.mean(epoch_val_accuracies)\n",
    "\n",
    "    # populate results\n",
    "    results['loss'].append( epoch_loss )\n",
    "    results['val_loss'].append( epoch_val_loss )\n",
    "    results['acc'].append( epoch_acc )\n",
    "    results['val_acc'].append( epoch_val_acc )\n",
    "\n",
    "    #if (epoch+1) % 5 == 0 or epoch+1 == EPOCHS:\n",
    "    print(\"Epoch {}/{}\\tTrain Loss: {:.4f}\\tTest Loss: {:.4f}\\tTrain Accuracy: {:.2f}%\\tTest Accuracy: {:.2f}%\".format(\n",
    "            epoch+1, EPOCHS, epoch_loss, epoch_val_loss, epoch_acc*100, epoch_val_acc*100) )"
   ]
  },
  {
   "cell_type": "code",
   "execution_count": 14,
   "metadata": {},
   "outputs": [
    {
     "data": {
      "text/plain": [
       "Sequential(\n",
       "  (movingAvg_3_transform): MovingAvg()\n",
       "  (movingAvg_3_conv): Conv1d(1, 64, kernel_size=(7,), stride=(1,), padding=same)\n",
       "  (movingAvg_3_activation): ReLU()\n",
       "  (movingAvg_3_pool): MaxPool1d(kernel_size=34, stride=34, padding=0, dilation=1, ceil_mode=False)\n",
       ")"
      ]
     },
     "execution_count": 14,
     "metadata": {},
     "output_type": "execute_result"
    }
   ],
   "source": [
    "model.branches[1]"
   ]
  },
  {
   "cell_type": "markdown",
   "metadata": {
    "collapsed": false,
    "pycharm": {
     "name": "#%% md\n"
    }
   },
   "source": [
    "## Results"
   ]
  },
  {
   "cell_type": "code",
   "execution_count": 10,
   "metadata": {
    "collapsed": false,
    "pycharm": {
     "name": "#%%\n"
    }
   },
   "outputs": [
    {
     "data": {
      "image/png": "[encoded data removed]",
      "text/plain": [
       "<Figure size 1152x360 with 2 Axes>"
      ]
     },
     "metadata": {
      "needs_background": "light"
     },
     "output_type": "display_data"
    }
   ],
   "source": [
    "plt.subplots(1, 2, figsize=(16, 5))\n",
    "\n",
    "plt.subplot(121)\n",
    "plt.plot(results['loss'], label='Training')\n",
    "plt.plot(results['val_loss'], label='Test')\n",
    "plt.grid('on')\n",
    "plt.legend()\n",
    "plt.title('Loss')\n",
    "\n",
    "plt.subplot(122)\n",
    "plt.plot(results['acc'], label='Training')\n",
    "plt.plot(results['val_acc'], label='Test')\n",
    "plt.grid('on')\n",
    "plt.legend()\n",
    "plt.title('Accuracy')\n",
    "\n",
    "plt.show()"
   ]
  },
  {
   "cell_type": "markdown",
   "metadata": {
    "collapsed": false,
    "pycharm": {
     "name": "#%% md\n"
    }
   },
   "source": [
    "---"
   ]
  }
 ],
 "metadata": {
  "interpreter": {
   "hash": "0747f93ff6db21b2db2bf35ad4858dd0825b9c21797c41b4cc32097944ab3f10"
  },
  "kernelspec": {
   "display_name": "Python 3.8.13 ('pytorch')",
   "language": "python",
   "name": "python3"
  },
  "language_info": {
   "codemirror_mode": {
    "name": "ipython",
    "version": 3
   },
   "file_extension": ".py",
   "mimetype": "text/x-python",
   "name": "python",
   "nbconvert_exporter": "python",
   "pygments_lexer": "ipython3",
   "version": "3.8.13"
  }
 },
 "nbformat": 4,
 "nbformat_minor": 0
}
